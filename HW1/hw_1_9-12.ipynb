{
 "cells": [
  {
   "cell_type": "code",
   "execution_count": 1,
   "id": "1b86bac3",
   "metadata": {},
   "outputs": [],
   "source": [
    "import numpy as np\n",
    "\n",
    "entropies = {\n",
    "    (0, 1, 2): np.float64(4.8075123183976665),\n",
    "    (0, 1): np.float64(4.9775863992866896),\n",
    "    (0, 2): np.float64(4.758252517308642),\n",
    "    (1, 2): np.float64(4.392500622437077),\n",
    "    (0,): np.float64(5.009714758101686),\n",
    "    (1,): np.float64(4.968396695785046),\n",
    "    (2,): np.float64(4.702932411963032),\n",
    "}"
   ]
  },
  {
   "cell_type": "markdown",
   "id": "53ceca91",
   "metadata": {},
   "source": [
    "## 9"
   ]
  },
  {
   "cell_type": "markdown",
   "id": "b4ca1ea2",
   "metadata": {},
   "source": [
    "With the readily available entropy values, simulate greedy backward\n",
    "selection as a search strategy for a potentially optimal set of data dimensions\n",
    "with respect to clustering."
   ]
  },
  {
   "cell_type": "markdown",
   "id": "a6ad681c",
   "metadata": {},
   "source": [
    "Backward selection: Features are repeatedly dropped greedily until the \n",
    "incremental reduction is not significant, or the entropy increases."
   ]
  },
  {
   "cell_type": "code",
   "execution_count": 5,
   "id": "8918e70c",
   "metadata": {},
   "outputs": [
    {
     "name": "stdout",
     "output_type": "stream",
     "text": [
      "Starting with features [0, 1, 2] and entropy 4.8075123183976665\n",
      "Dropped feature 0, new features [1, 2], new entropy 4.392500622437077\n",
      "No further improvement, stopping.\n",
      "Final selected features: [1, 2] with entropy 4.392500622437077\n"
     ]
    }
   ],
   "source": [
    "# Greedy backward selection\n",
    "def backward_selection(entropies, features):\n",
    "    current_features = features.copy()\n",
    "    current_entropy = entropies[tuple(sorted(current_features))]\n",
    "    print(f\"Starting with features {current_features} and entropy {current_entropy}\")\n",
    "\n",
    "    while len(current_features) > 1:\n",
    "        entropies_if_dropped = {}\n",
    "        for feature in current_features:\n",
    "            reduced_features = tuple(sorted(f for f in current_features if f != feature))\n",
    "            entropies_if_dropped[feature] = entropies[reduced_features]\n",
    "\n",
    "        feature_to_drop = min(entropies_if_dropped, key=entropies_if_dropped.get)\n",
    "        new_entropy = entropies_if_dropped[feature_to_drop]\n",
    "\n",
    "        if new_entropy < current_entropy:\n",
    "            current_features.remove(feature_to_drop)\n",
    "            current_entropy = new_entropy\n",
    "            print(f\"Dropped feature {feature_to_drop}, new features {current_features}, new entropy {current_entropy}\")\n",
    "        else:\n",
    "            print(\"No further improvement, stopping.\")\n",
    "            break\n",
    "\n",
    "    return current_features, current_entropy\n",
    "\n",
    "final_features, final_entropy = backward_selection(entropies, [0, 1, 2])\n",
    "print(f\"Final selected features: {final_features} with entropy {final_entropy}\")"
   ]
  },
  {
   "cell_type": "markdown",
   "id": "91f1cab4",
   "metadata": {},
   "source": [
    "## 10"
   ]
  },
  {
   "cell_type": "markdown",
   "id": "57f4c6b8",
   "metadata": {},
   "source": [
    "Similarly, simulate greedy forward selection and find a potentially optimal set\n",
    "of data dimensions."
   ]
  },
  {
   "cell_type": "markdown",
   "id": "c9951539",
   "metadata": {},
   "source": [
    "At each round add the best feature that causes the largest decrease in entropy,\n",
    "until it is not significant or the entropy increases."
   ]
  },
  {
   "cell_type": "code",
   "execution_count": 2,
   "id": "de285620",
   "metadata": {},
   "outputs": [
    {
     "name": "stdout",
     "output_type": "stream",
     "text": [
      "Starting with features [] and entropy inf\n",
      "Added feature 2, new features [2], new entropy 4.702932411963032\n",
      "Added feature 1, new features [2, 1], new entropy 4.392500622437077\n",
      "No further improvement, stopping.\n",
      "Final selected features: [2, 1] with entropy 4.392500622437077\n"
     ]
    }
   ],
   "source": [
    "# Greedy forward selection\n",
    "def forward_selection(entropies, features):\n",
    "    starting_features = []\n",
    "    current_entropy = float('inf')\n",
    "    print(f\"Starting with features {starting_features} and entropy {current_entropy}\")\n",
    "\n",
    "\n",
    "    while len(starting_features) < len(features):\n",
    "        entropies_if_added = {}\n",
    "        for feature in features:\n",
    "            if feature not in starting_features:\n",
    "                new_features = tuple(sorted(starting_features + [feature]))\n",
    "                entropies_if_added[feature] = entropies[new_features]\n",
    "        \n",
    "        feature_to_add = min(entropies_if_added, key=entropies_if_added.get)\n",
    "        new_entropy = entropies_if_added[feature_to_add]\n",
    "        \n",
    "        if new_entropy < current_entropy:\n",
    "            starting_features.append(feature_to_add)\n",
    "            current_entropy = new_entropy\n",
    "            print(f\"Added feature {feature_to_add}, new features {starting_features}, new entropy {current_entropy}\")\n",
    "        else:\n",
    "            print(\"No further improvement, stopping.\")\n",
    "            break\n",
    "\n",
    "    return starting_features, current_entropy\n",
    "\n",
    "final_features_forward, final_entropy_forward = forward_selection(entropies, [0, 1, 2])\n",
    "print(f\"Final selected features: {final_features_forward} with entropy {final_entropy_forward}\")"
   ]
  },
  {
   "cell_type": "code",
   "execution_count": null,
   "id": "ba9be901",
   "metadata": {},
   "outputs": [],
   "source": []
  }
 ],
 "metadata": {
  "kernelspec": {
   "display_name": ".venv",
   "language": "python",
   "name": "python3"
  },
  "language_info": {
   "codemirror_mode": {
    "name": "ipython",
    "version": 3
   },
   "file_extension": ".py",
   "mimetype": "text/x-python",
   "name": "python",
   "nbconvert_exporter": "python",
   "pygments_lexer": "ipython3",
   "version": "3.13.5"
  }
 },
 "nbformat": 4,
 "nbformat_minor": 5
}
