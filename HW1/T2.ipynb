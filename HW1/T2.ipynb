{
 "cells": [
  {
   "metadata": {
    "collapsed": true,
    "ExecuteTime": {
     "end_time": "2025-09-17T23:46:07.416656Z",
     "start_time": "2025-09-17T23:46:07.413533Z"
    }
   },
   "cell_type": "markdown",
   "source": [
    "$$\n",
    "L_{1/2} = \\left( \\sum_{i=1}^{k} |x_i-y_i|^{1/2} \\right)^{2}\n",
    "$$"
   ],
   "id": "d7f32e7b5170c1e9"
  },
  {
   "metadata": {},
   "cell_type": "markdown",
   "source": "",
   "id": "c9d83da341d46c95"
  },
  {
   "metadata": {},
   "cell_type": "code",
   "outputs": [],
   "execution_count": null,
   "source": [
    "import math\n",
    "\n",
    "def l_half(p1, p2):\n",
    "    sqrt_abs_0 = math.sqrt(abs(p1[0]- p2[0]))\n",
    "    sqrt_abs_1 = math.sqrt(abs(p2[1] - p1[1]))\n",
    "    sum_of_sqrts = sqrt_abs_0 + sqrt_abs_1\n",
    "    return sum_of_sqrts ** 2\n",
    "x = 6\n",
    "y = 5\n",
    "z = 5\n",
    "\n",
    "p1 = (9, 5)\n",
    "p2 = (5, 9)\n",
    "p3 = (5, 5)\n",
    "p1_p2 = l_half(p1, p2)\n",
    "p2_p3 = l_half(p2, p3)\n",
    "p1_p3 = l_half(p1, p3)\n",
    "is_metric = p1_p2 <= p2_p3 + p1_p3\n",
    "\n",
    "if not is_metric:\n",
    "    print(\"Nice\")"
   ],
   "id": "95955e89f57487a7"
  },
  {
   "metadata": {},
   "cell_type": "markdown",
   "source": [
    "1. Turning one word to another takes the same amount as doing the reverse\n",
    "2. Only if the word is the same we don't need to modify anything\n",
    "3. We can't modify negative times\n",
    "4. If I can turn a word into another one I can do it again with the same cost so even in worst case a+b=c"
   ],
   "id": "45740c689cbb9e18"
  },
  {
   "metadata": {},
   "cell_type": "markdown",
   "source": [
    "Literal triangles\n",
    "\n",
    "Literal distances\n",
    "\n",
    "Might be disconnected, but nothing in the rules against infinity\n"
   ],
   "id": "c1fd0d4abffc3b58"
  }
 ],
 "metadata": {
  "kernelspec": {
   "display_name": "Python 3",
   "language": "python",
   "name": "python3"
  },
  "language_info": {
   "codemirror_mode": {
    "name": "ipython",
    "version": 2
   },
   "file_extension": ".py",
   "mimetype": "text/x-python",
   "name": "python",
   "nbconvert_exporter": "python",
   "pygments_lexer": "ipython2",
   "version": "2.7.6"
  }
 },
 "nbformat": 4,
 "nbformat_minor": 5
}
