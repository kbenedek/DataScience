{
 "cells": [
  {
   "cell_type": "code",
   "id": "initial_id",
   "metadata": {
    "collapsed": true,
    "ExecuteTime": {
     "end_time": "2025-09-21T13:23:48.462497Z",
     "start_time": "2025-09-21T13:23:48.454340Z"
    }
   },
   "source": [
    "import pandas as pd\n",
    "\n",
    "file_path = 'clustering-tendency.csv'\n",
    "df = pd.read_csv(file_path, header=None)\n",
    "\n",
    "ranges = 0.25, 0.5, 0.75, 1\n",
    "\n",
    "df.head()\n",
    "\n",
    "\n",
    "\n"
   ],
   "outputs": [
    {
     "data": {
      "text/plain": [
       "          0         1         2\n",
       "0  0.964680  0.351274  0.298323\n",
       "1  0.585918  0.800970  0.187782\n",
       "2  0.509113  0.280177  0.208792\n",
       "3  0.352107  0.665974  0.046316\n",
       "4  0.363669  0.323479  0.219902"
      ],
      "text/html": [
       "<div>\n",
       "<style scoped>\n",
       "    .dataframe tbody tr th:only-of-type {\n",
       "        vertical-align: middle;\n",
       "    }\n",
       "\n",
       "    .dataframe tbody tr th {\n",
       "        vertical-align: top;\n",
       "    }\n",
       "\n",
       "    .dataframe thead th {\n",
       "        text-align: right;\n",
       "    }\n",
       "</style>\n",
       "<table border=\"1\" class=\"dataframe\">\n",
       "  <thead>\n",
       "    <tr style=\"text-align: right;\">\n",
       "      <th></th>\n",
       "      <th>0</th>\n",
       "      <th>1</th>\n",
       "      <th>2</th>\n",
       "    </tr>\n",
       "  </thead>\n",
       "  <tbody>\n",
       "    <tr>\n",
       "      <th>0</th>\n",
       "      <td>0.964680</td>\n",
       "      <td>0.351274</td>\n",
       "      <td>0.298323</td>\n",
       "    </tr>\n",
       "    <tr>\n",
       "      <th>1</th>\n",
       "      <td>0.585918</td>\n",
       "      <td>0.800970</td>\n",
       "      <td>0.187782</td>\n",
       "    </tr>\n",
       "    <tr>\n",
       "      <th>2</th>\n",
       "      <td>0.509113</td>\n",
       "      <td>0.280177</td>\n",
       "      <td>0.208792</td>\n",
       "    </tr>\n",
       "    <tr>\n",
       "      <th>3</th>\n",
       "      <td>0.352107</td>\n",
       "      <td>0.665974</td>\n",
       "      <td>0.046316</td>\n",
       "    </tr>\n",
       "    <tr>\n",
       "      <th>4</th>\n",
       "      <td>0.363669</td>\n",
       "      <td>0.323479</td>\n",
       "      <td>0.219902</td>\n",
       "    </tr>\n",
       "  </tbody>\n",
       "</table>\n",
       "</div>"
      ]
     },
     "execution_count": 19,
     "metadata": {},
     "output_type": "execute_result"
    }
   ],
   "execution_count": 19
  },
  {
   "metadata": {
    "ExecuteTime": {
     "end_time": "2025-09-21T13:24:56.655145Z",
     "start_time": "2025-09-21T13:24:56.641068Z"
    }
   },
   "cell_type": "code",
   "source": [
    "from math import floor\n",
    "def categorize(data_point):\n",
    "    return (floor(data_point[0] / 0.25)) * 16 + (floor(data_point[1] / 0.25)) * 4 + (floor(data_point[2] / 0.25))\n",
    "\n",
    "df=  df.apply(categorize)\n",
    "df.head()"
   ],
   "id": "514bb133d945b677",
   "outputs": [
    {
     "data": {
      "text/plain": [
       "0    53\n",
       "1    44\n",
       "2    36\n",
       "3    24\n",
       "4    20\n",
       "dtype: int64"
      ]
     },
     "execution_count": 21,
     "metadata": {},
     "output_type": "execute_result"
    }
   ],
   "execution_count": 21
  }
 ],
 "metadata": {
  "kernelspec": {
   "display_name": "Python 3",
   "language": "python",
   "name": "python3"
  },
  "language_info": {
   "codemirror_mode": {
    "name": "ipython",
    "version": 2
   },
   "file_extension": ".py",
   "mimetype": "text/x-python",
   "name": "python",
   "nbconvert_exporter": "python",
   "pygments_lexer": "ipython2",
   "version": "2.7.6"
  }
 },
 "nbformat": 4,
 "nbformat_minor": 5
}
