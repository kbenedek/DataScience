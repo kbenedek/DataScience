{
 "cells": [
  {
   "metadata": {
    "ExecuteTime": {
     "end_time": "2025-09-21T14:24:29.188358Z",
     "start_time": "2025-09-21T14:24:28.844180Z"
    }
   },
   "cell_type": "code",
   "source": [
    "import pandas as pd\n",
    "file_path = 'clustering-tendency.csv'\n",
    "df = pd.read_csv(file_path, header=None)\n",
    "df"
   ],
   "id": "6fe764f19f5f64f1",
   "outputs": [
    {
     "data": {
      "text/plain": [
       "            0         1         2\n",
       "0    0.964680  0.351274  0.298323\n",
       "1    0.585918  0.800970  0.187782\n",
       "2    0.509113  0.280177  0.208792\n",
       "3    0.352107  0.665974  0.046316\n",
       "4    0.363669  0.323479  0.219902\n",
       "..        ...       ...       ...\n",
       "995  0.592656  0.516658  0.699137\n",
       "996  0.083745  0.542244  0.644479\n",
       "997  0.997039  0.101037  0.305323\n",
       "998  0.818407  0.608719  0.391878\n",
       "999  0.151750  0.655265  0.369473\n",
       "\n",
       "[1000 rows x 3 columns]"
      ],
      "text/html": [
       "<div>\n",
       "<style scoped>\n",
       "    .dataframe tbody tr th:only-of-type {\n",
       "        vertical-align: middle;\n",
       "    }\n",
       "\n",
       "    .dataframe tbody tr th {\n",
       "        vertical-align: top;\n",
       "    }\n",
       "\n",
       "    .dataframe thead th {\n",
       "        text-align: right;\n",
       "    }\n",
       "</style>\n",
       "<table border=\"1\" class=\"dataframe\">\n",
       "  <thead>\n",
       "    <tr style=\"text-align: right;\">\n",
       "      <th></th>\n",
       "      <th>0</th>\n",
       "      <th>1</th>\n",
       "      <th>2</th>\n",
       "    </tr>\n",
       "  </thead>\n",
       "  <tbody>\n",
       "    <tr>\n",
       "      <th>0</th>\n",
       "      <td>0.964680</td>\n",
       "      <td>0.351274</td>\n",
       "      <td>0.298323</td>\n",
       "    </tr>\n",
       "    <tr>\n",
       "      <th>1</th>\n",
       "      <td>0.585918</td>\n",
       "      <td>0.800970</td>\n",
       "      <td>0.187782</td>\n",
       "    </tr>\n",
       "    <tr>\n",
       "      <th>2</th>\n",
       "      <td>0.509113</td>\n",
       "      <td>0.280177</td>\n",
       "      <td>0.208792</td>\n",
       "    </tr>\n",
       "    <tr>\n",
       "      <th>3</th>\n",
       "      <td>0.352107</td>\n",
       "      <td>0.665974</td>\n",
       "      <td>0.046316</td>\n",
       "    </tr>\n",
       "    <tr>\n",
       "      <th>4</th>\n",
       "      <td>0.363669</td>\n",
       "      <td>0.323479</td>\n",
       "      <td>0.219902</td>\n",
       "    </tr>\n",
       "    <tr>\n",
       "      <th>...</th>\n",
       "      <td>...</td>\n",
       "      <td>...</td>\n",
       "      <td>...</td>\n",
       "    </tr>\n",
       "    <tr>\n",
       "      <th>995</th>\n",
       "      <td>0.592656</td>\n",
       "      <td>0.516658</td>\n",
       "      <td>0.699137</td>\n",
       "    </tr>\n",
       "    <tr>\n",
       "      <th>996</th>\n",
       "      <td>0.083745</td>\n",
       "      <td>0.542244</td>\n",
       "      <td>0.644479</td>\n",
       "    </tr>\n",
       "    <tr>\n",
       "      <th>997</th>\n",
       "      <td>0.997039</td>\n",
       "      <td>0.101037</td>\n",
       "      <td>0.305323</td>\n",
       "    </tr>\n",
       "    <tr>\n",
       "      <th>998</th>\n",
       "      <td>0.818407</td>\n",
       "      <td>0.608719</td>\n",
       "      <td>0.391878</td>\n",
       "    </tr>\n",
       "    <tr>\n",
       "      <th>999</th>\n",
       "      <td>0.151750</td>\n",
       "      <td>0.655265</td>\n",
       "      <td>0.369473</td>\n",
       "    </tr>\n",
       "  </tbody>\n",
       "</table>\n",
       "<p>1000 rows × 3 columns</p>\n",
       "</div>"
      ]
     },
     "execution_count": 2,
     "metadata": {},
     "output_type": "execute_result"
    }
   ],
   "execution_count": 2
  },
  {
   "metadata": {
    "ExecuteTime": {
     "end_time": "2025-09-21T14:24:29.404006Z",
     "start_time": "2025-09-21T14:24:29.394841Z"
    }
   },
   "cell_type": "code",
   "source": "df.apply(lambda x : x[0] > 0.75 and x[1] > 0.75 and x[2] > 0.75, axis=1).value_counts(sort=False)",
   "id": "3c611ece9ba594d5",
   "outputs": [
    {
     "data": {
      "text/plain": [
       "False    1000\n",
       "Name: count, dtype: int64"
      ]
     },
     "execution_count": 3,
     "metadata": {},
     "output_type": "execute_result"
    }
   ],
   "execution_count": 3
  },
  {
   "metadata": {
    "ExecuteTime": {
     "end_time": "2025-09-21T14:24:29.854490Z",
     "start_time": "2025-09-21T14:24:29.838513Z"
    }
   },
   "cell_type": "code",
   "source": [
    "from math import floor\n",
    "def categorize(data_point):\n",
    "    return (floor(data_point[0] / 0.25)) * 16 + (floor(data_point[1] / 0.25)) * 4 + (floor(data_point[2] / 0.25))\n",
    "\n",
    "\n",
    "\n",
    "categories_3d =  df.apply(categorize, axis=\"columns\")\n",
    "categories_3d"
   ],
   "id": "514bb133d945b677",
   "outputs": [
    {
     "data": {
      "text/plain": [
       "0      53\n",
       "1      44\n",
       "2      36\n",
       "3      24\n",
       "4      20\n",
       "       ..\n",
       "995    42\n",
       "996    10\n",
       "997    49\n",
       "998    57\n",
       "999     9\n",
       "Length: 1000, dtype: int64"
      ]
     },
     "execution_count": 4,
     "metadata": {},
     "output_type": "execute_result"
    }
   ],
   "execution_count": 4
  },
  {
   "metadata": {
    "ExecuteTime": {
     "end_time": "2025-09-21T14:24:30.091492Z",
     "start_time": "2025-09-21T14:24:30.085550Z"
    }
   },
   "cell_type": "code",
   "source": [
    "from math import log\n",
    "\n",
    "rel_prob_3d:pd.Series = categories_3d.value_counts(normalize=True)\n",
    "test= pd.Series(rel_prob_3d, index=categories_3d.index)\n",
    "\n",
    "\n",
    "def calc_entropy(probs: pd.Series):\n",
    "    sum = 0\n",
    "    for i in range(0, 63):\n",
    "        value = probs.get(i, default=0)\n",
    "        if 0 < value < 1:\n",
    "            sum += (value * log(value) +\n",
    "                    (1 - value) * log(1 - value))\n",
    "    return sum * -1\n",
    "\n",
    "\n",
    "calc_entropy(rel_prob_3d)"
   ],
   "id": "895d7eba2b96ec93",
   "outputs": [
    {
     "data": {
      "text/plain": [
       "4.8075123183976665"
      ]
     },
     "execution_count": 5,
     "metadata": {},
     "output_type": "execute_result"
    }
   ],
   "execution_count": 5
  },
  {
   "metadata": {
    "ExecuteTime": {
     "end_time": "2025-09-21T14:27:54.399117Z",
     "start_time": "2025-09-21T14:27:54.377797Z"
    }
   },
   "cell_type": "code",
   "source": [
    "import itertools\n",
    "\n",
    "def calculate_2d(data_point: pd.Series):\n",
    "    return (floor(data_point.values[0] / 0.125)) * 8 + (floor(data_point.values[1] / 0.125))\n",
    "\n",
    "for pair in itertools.combinations(df.columns, r=2 ):\n",
    "    data = df[list(pair)]\n",
    "    bined_data = data.apply(calculate_2d, axis=1).value_counts(normalize=True)\n",
    "    print(f\"{pair} : {calc_entropy(bined_data)}\")"
   ],
   "id": "c8edfc1d1769bd4a",
   "outputs": [
    {
     "name": "stdout",
     "output_type": "stream",
     "text": [
      "(0, 1) : 4.9775863992866896\n",
      "(0, 2) : 4.758252517308642\n",
      "(1, 2) : 4.392500622437077\n"
     ]
    }
   ],
   "execution_count": 13
  },
  {
   "metadata": {},
   "cell_type": "code",
   "outputs": [],
   "execution_count": null,
   "source": "",
   "id": "d2dbd990294ff053"
  }
 ],
 "metadata": {
  "kernelspec": {
   "display_name": "Python 3",
   "language": "python",
   "name": "python3"
  },
  "language_info": {
   "codemirror_mode": {
    "name": "ipython",
    "version": 2
   },
   "file_extension": ".py",
   "mimetype": "text/x-python",
   "name": "python",
   "nbconvert_exporter": "python",
   "pygments_lexer": "ipython2",
   "version": "2.7.6"
  }
 },
 "nbformat": 4,
 "nbformat_minor": 5
}
