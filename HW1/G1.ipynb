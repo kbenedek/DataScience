{
 "cells": [
  {
   "metadata": {
    "ExecuteTime": {
     "end_time": "2025-09-21T15:40:52.607635Z",
     "start_time": "2025-09-21T15:40:52.598254Z"
    }
   },
   "cell_type": "code",
   "source": [
    "import pandas as pd\n",
    "file_path = 'clustering-tendency.csv'\n",
    "df = pd.read_csv(file_path, header=None)\n",
    "df"
   ],
   "id": "6fe764f19f5f64f1",
   "outputs": [
    {
     "data": {
      "text/plain": [
       "            0         1         2\n",
       "0    0.964680  0.351274  0.298323\n",
       "1    0.585918  0.800970  0.187782\n",
       "2    0.509113  0.280177  0.208792\n",
       "3    0.352107  0.665974  0.046316\n",
       "4    0.363669  0.323479  0.219902\n",
       "..        ...       ...       ...\n",
       "995  0.592656  0.516658  0.699137\n",
       "996  0.083745  0.542244  0.644479\n",
       "997  0.997039  0.101037  0.305323\n",
       "998  0.818407  0.608719  0.391878\n",
       "999  0.151750  0.655265  0.369473\n",
       "\n",
       "[1000 rows x 3 columns]"
      ],
      "text/html": [
       "<div>\n",
       "<style scoped>\n",
       "    .dataframe tbody tr th:only-of-type {\n",
       "        vertical-align: middle;\n",
       "    }\n",
       "\n",
       "    .dataframe tbody tr th {\n",
       "        vertical-align: top;\n",
       "    }\n",
       "\n",
       "    .dataframe thead th {\n",
       "        text-align: right;\n",
       "    }\n",
       "</style>\n",
       "<table border=\"1\" class=\"dataframe\">\n",
       "  <thead>\n",
       "    <tr style=\"text-align: right;\">\n",
       "      <th></th>\n",
       "      <th>0</th>\n",
       "      <th>1</th>\n",
       "      <th>2</th>\n",
       "    </tr>\n",
       "  </thead>\n",
       "  <tbody>\n",
       "    <tr>\n",
       "      <th>0</th>\n",
       "      <td>0.964680</td>\n",
       "      <td>0.351274</td>\n",
       "      <td>0.298323</td>\n",
       "    </tr>\n",
       "    <tr>\n",
       "      <th>1</th>\n",
       "      <td>0.585918</td>\n",
       "      <td>0.800970</td>\n",
       "      <td>0.187782</td>\n",
       "    </tr>\n",
       "    <tr>\n",
       "      <th>2</th>\n",
       "      <td>0.509113</td>\n",
       "      <td>0.280177</td>\n",
       "      <td>0.208792</td>\n",
       "    </tr>\n",
       "    <tr>\n",
       "      <th>3</th>\n",
       "      <td>0.352107</td>\n",
       "      <td>0.665974</td>\n",
       "      <td>0.046316</td>\n",
       "    </tr>\n",
       "    <tr>\n",
       "      <th>4</th>\n",
       "      <td>0.363669</td>\n",
       "      <td>0.323479</td>\n",
       "      <td>0.219902</td>\n",
       "    </tr>\n",
       "    <tr>\n",
       "      <th>...</th>\n",
       "      <td>...</td>\n",
       "      <td>...</td>\n",
       "      <td>...</td>\n",
       "    </tr>\n",
       "    <tr>\n",
       "      <th>995</th>\n",
       "      <td>0.592656</td>\n",
       "      <td>0.516658</td>\n",
       "      <td>0.699137</td>\n",
       "    </tr>\n",
       "    <tr>\n",
       "      <th>996</th>\n",
       "      <td>0.083745</td>\n",
       "      <td>0.542244</td>\n",
       "      <td>0.644479</td>\n",
       "    </tr>\n",
       "    <tr>\n",
       "      <th>997</th>\n",
       "      <td>0.997039</td>\n",
       "      <td>0.101037</td>\n",
       "      <td>0.305323</td>\n",
       "    </tr>\n",
       "    <tr>\n",
       "      <th>998</th>\n",
       "      <td>0.818407</td>\n",
       "      <td>0.608719</td>\n",
       "      <td>0.391878</td>\n",
       "    </tr>\n",
       "    <tr>\n",
       "      <th>999</th>\n",
       "      <td>0.151750</td>\n",
       "      <td>0.655265</td>\n",
       "      <td>0.369473</td>\n",
       "    </tr>\n",
       "  </tbody>\n",
       "</table>\n",
       "<p>1000 rows × 3 columns</p>\n",
       "</div>"
      ]
     },
     "execution_count": 109,
     "metadata": {},
     "output_type": "execute_result"
    }
   ],
   "execution_count": 109
  },
  {
   "metadata": {
    "ExecuteTime": {
     "end_time": "2025-09-21T15:40:52.721442Z",
     "start_time": "2025-09-21T15:40:52.713227Z"
    }
   },
   "cell_type": "code",
   "source": "df.apply(lambda x : x[0] > 0.75 and x[1] > 0.75 and x[2] > 0.75, axis=1).value_counts(sort=False)",
   "id": "3c611ece9ba594d5",
   "outputs": [
    {
     "data": {
      "text/plain": [
       "False    1000\n",
       "Name: count, dtype: int64"
      ]
     },
     "execution_count": 110,
     "metadata": {},
     "output_type": "execute_result"
    }
   ],
   "execution_count": 110
  },
  {
   "metadata": {
    "ExecuteTime": {
     "end_time": "2025-09-21T15:40:53.203603Z",
     "start_time": "2025-09-21T15:40:53.190271Z"
    }
   },
   "cell_type": "code",
   "source": [
    "from math import floor\n",
    "def categorize(data_point):\n",
    "    return (floor(data_point[0] / 0.25)) * 16 + (floor(data_point[1] / 0.25)) * 4 + (floor(data_point[2] / 0.25))\n",
    "\n",
    "\n",
    "\n",
    "categories_3d =  df.apply(categorize, axis=\"columns\")\n",
    "categories_3d"
   ],
   "id": "514bb133d945b677",
   "outputs": [
    {
     "data": {
      "text/plain": [
       "0      53\n",
       "1      44\n",
       "2      36\n",
       "3      24\n",
       "4      20\n",
       "       ..\n",
       "995    42\n",
       "996    10\n",
       "997    49\n",
       "998    57\n",
       "999     9\n",
       "Length: 1000, dtype: int64"
      ]
     },
     "execution_count": 111,
     "metadata": {},
     "output_type": "execute_result"
    }
   ],
   "execution_count": 111
  },
  {
   "metadata": {
    "ExecuteTime": {
     "end_time": "2025-09-21T15:40:53.337121Z",
     "start_time": "2025-09-21T15:40:53.322958Z"
    }
   },
   "cell_type": "code",
   "source": [
    "from math import log\n",
    "\n",
    "rel_prob_3d:pd.Series = categories_3d.value_counts(normalize=True)\n",
    "rel_prob_3d"
   ],
   "id": "26674b86fa2b7095",
   "outputs": [
    {
     "data": {
      "text/plain": [
       "16    0.050\n",
       "17    0.037\n",
       "33    0.036\n",
       "1     0.036\n",
       "20    0.033\n",
       "52    0.032\n",
       "48    0.029\n",
       "53    0.028\n",
       "21    0.028\n",
       "32    0.028\n",
       "37    0.028\n",
       "36    0.027\n",
       "5     0.026\n",
       "49    0.025\n",
       "44    0.025\n",
       "0     0.022\n",
       "8     0.022\n",
       "56    0.021\n",
       "4     0.021\n",
       "12    0.021\n",
       "27    0.020\n",
       "6     0.019\n",
       "26    0.019\n",
       "40    0.018\n",
       "23    0.017\n",
       "25    0.017\n",
       "28    0.016\n",
       "57    0.016\n",
       "45    0.016\n",
       "43    0.016\n",
       "61    0.016\n",
       "42    0.016\n",
       "29    0.016\n",
       "9     0.015\n",
       "58    0.015\n",
       "60    0.015\n",
       "54    0.015\n",
       "41    0.015\n",
       "11    0.014\n",
       "24    0.014\n",
       "10    0.014\n",
       "38    0.013\n",
       "59    0.013\n",
       "22    0.012\n",
       "13    0.011\n",
       "55    0.011\n",
       "39    0.010\n",
       "7     0.010\n",
       "2     0.002\n",
       "46    0.001\n",
       "51    0.001\n",
       "47    0.001\n",
       "18    0.001\n",
       "Name: proportion, dtype: float64"
      ]
     },
     "execution_count": 112,
     "metadata": {},
     "output_type": "execute_result"
    }
   ],
   "execution_count": 112
  },
  {
   "metadata": {
    "ExecuteTime": {
     "end_time": "2025-09-21T15:40:53.839523Z",
     "start_time": "2025-09-21T15:40:53.835029Z"
    }
   },
   "cell_type": "code",
   "source": [
    "test = pd.Series(rel_prob_3d, index=categories_3d.index)\n",
    "\n",
    "\n",
    "def calc_entropy(probs: pd.Series):\n",
    "    sum = 0\n",
    "    for i in range(0, 63):\n",
    "        value = probs.get(i, default=0)\n",
    "        if 0 < value < 1:\n",
    "            sum += (value * log(value) +\n",
    "                    (1 - value) * log(1 - value))\n",
    "    return sum * -1\n",
    "\n",
    "\n",
    "calc_entropy(rel_prob_3d)"
   ],
   "id": "ba169727242c3208",
   "outputs": [
    {
     "data": {
      "text/plain": [
       "4.8075123183976665"
      ]
     },
     "execution_count": 113,
     "metadata": {},
     "output_type": "execute_result"
    }
   ],
   "execution_count": 113
  },
  {
   "metadata": {
    "ExecuteTime": {
     "end_time": "2025-09-21T15:40:54.046506Z",
     "start_time": "2025-09-21T15:40:54.027396Z"
    }
   },
   "cell_type": "code",
   "source": [
    "import itertools\n",
    "\n",
    "def calculate_2d(data_point: pd.Series):\n",
    "    return (floor(data_point.values[0] / 0.125)) * 8 + (floor(data_point.values[1] / 0.125))\n",
    "\n",
    "for pair in itertools.combinations(df.columns, r=2 ):\n",
    "    data = df[list(pair)]\n",
    "    bined_data = data.apply(calculate_2d, axis=1).value_counts(normalize=True)\n",
    "    print(f\"{pair} : {calc_entropy(bined_data)}\")"
   ],
   "id": "c8edfc1d1769bd4a",
   "outputs": [
    {
     "name": "stdout",
     "output_type": "stream",
     "text": [
      "(0, 1) : 4.9775863992866896\n",
      "(0, 2) : 4.758252517308642\n",
      "(1, 2) : 4.392500622437077\n"
     ]
    }
   ],
   "execution_count": 114
  },
  {
   "metadata": {
    "ExecuteTime": {
     "end_time": "2025-09-21T15:40:54.158892Z",
     "start_time": "2025-09-21T15:40:54.151761Z"
    }
   },
   "cell_type": "code",
   "source": [
    "def calculate_1d(data_point: float, bucket_number: int = 64):\n",
    "    return floor(data_point / (1/bucket_number))\n",
    "\n",
    "\n",
    "def process_column_1d(column: int):\n",
    "    global binned_data, count_data, entropy\n",
    "    print(\"Column \", column)\n",
    "    binned_data = df[column].apply(calculate_1d)\n",
    "    count_data = binned_data.value_counts(normalize=True)\n",
    "    entropy = calc_entropy(count_data)\n",
    "    print(f\"{column} : {entropy}\")\n",
    "    return binned_data, count_data, entropy\n",
    "\n",
    "for column in df.columns:\n",
    "    process_column_1d(column)"
   ],
   "id": "d2dbd990294ff053",
   "outputs": [
    {
     "name": "stdout",
     "output_type": "stream",
     "text": [
      "Column  0\n",
      "0 : 5.009714758101686\n",
      "Column  1\n",
      "1 : 4.968396695785046\n",
      "Column  2\n",
      "2 : 4.702932411963032\n"
     ]
    }
   ],
   "execution_count": 115
  },
  {
   "metadata": {
    "ExecuteTime": {
     "end_time": "2025-09-21T15:40:54.203872Z",
     "start_time": "2025-09-21T15:40:54.201911Z"
    }
   },
   "cell_type": "code",
   "source": "\n",
   "id": "a35eefd216bfa57",
   "outputs": [],
   "execution_count": 115
  },
  {
   "metadata": {
    "ExecuteTime": {
     "end_time": "2025-09-21T15:40:54.255684Z",
     "start_time": "2025-09-21T15:40:54.253487Z"
    }
   },
   "cell_type": "code",
   "source": "",
   "id": "f13f9868a779958d",
   "outputs": [],
   "execution_count": null
  },
  {
   "metadata": {
    "ExecuteTime": {
     "end_time": "2025-09-21T15:40:54.303500Z",
     "start_time": "2025-09-21T15:40:54.301719Z"
    }
   },
   "cell_type": "code",
   "source": "\n",
   "id": "4928b34a3aacb21c",
   "outputs": [],
   "execution_count": 115
  },
  {
   "metadata": {
    "ExecuteTime": {
     "end_time": "2025-09-21T15:40:54.350413Z",
     "start_time": "2025-09-21T15:40:54.348699Z"
    }
   },
   "cell_type": "code",
   "source": "",
   "id": "81fc12509c9a9c09",
   "outputs": [],
   "execution_count": null
  },
  {
   "metadata": {
    "ExecuteTime": {
     "end_time": "2025-09-21T15:40:54.398526Z",
     "start_time": "2025-09-21T15:40:54.396513Z"
    }
   },
   "cell_type": "code",
   "source": "",
   "id": "7da980660aede64b",
   "outputs": [],
   "execution_count": null
  },
  {
   "metadata": {
    "ExecuteTime": {
     "end_time": "2025-09-21T15:40:54.443859Z",
     "start_time": "2025-09-21T15:40:54.441757Z"
    }
   },
   "cell_type": "code",
   "source": "",
   "id": "e83e1cfe1b7427e",
   "outputs": [],
   "execution_count": null
  }
 ],
 "metadata": {
  "kernelspec": {
   "display_name": "Python 3",
   "language": "python",
   "name": "python3"
  },
  "language_info": {
   "codemirror_mode": {
    "name": "ipython",
    "version": 2
   },
   "file_extension": ".py",
   "mimetype": "text/x-python",
   "name": "python",
   "nbconvert_exporter": "python",
   "pygments_lexer": "ipython2",
   "version": "2.7.6"
  }
 },
 "nbformat": 4,
 "nbformat_minor": 5
}
